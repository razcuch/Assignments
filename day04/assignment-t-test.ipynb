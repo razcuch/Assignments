{
 "cells": [
  {
   "cell_type": "markdown",
   "metadata": {},
   "source": [
    "# Homework Assignment: t-test, Histograms, and Boxplots"
   ]
  },
  {
   "cell_type": "markdown",
   "metadata": {},
   "source": [
    "## <font color = \"pink\" > Task 1: Generate Two Random Distributions\n"
   ]
  },
  {
   "cell_type": "code",
   "execution_count": null,
   "metadata": {},
   "outputs": [
    {
     "ename": "",
     "evalue": "",
     "output_type": "error",
     "traceback": [
      "\u001b[1;31mRunning cells with 'Python 3.12.4' requires the ipykernel package.\n",
      "\u001b[1;31mRun the following command to install 'ipykernel' into the Python environment. \n",
      "\u001b[1;31mCommand: 'c:/Users/razcu/AppData/Local/Programs/Python/Python312/python.exe -m pip install ipykernel -U --user --force-reinstall'"
     ]
    }
   ],
   "source": [
    "import numpy as np\n",
    "\n",
    "# Generate random distributions\n",
    "dist1 = np.random.randn(100)\n",
    "dist2 = np.random.randn(100+2)"
   ]
  },
  {
   "cell_type": "markdown",
   "metadata": {},
   "source": [
    "## <font color = \"pink\" > Task 2: Perform a t-test"
   ]
  },
  {
   "cell_type": "code",
   "execution_count": null,
   "metadata": {},
   "outputs": [],
   "source": [
    "from scipy.stats import ttest_ind\n",
    "\n",
    "t_stat,p_value= ttest_ind(dist1,dist2)\n",
    "print(f\"t-statistic: {t_stat}\")\n",
    "print(f\"p-value: {p_value}\")"
   ]
  },
  {
   "cell_type": "markdown",
   "metadata": {},
   "source": [
    "## <font color = \"pink\" >Task 3: Visualize with Histograms"
   ]
  },
  {
   "cell_type": "code",
   "execution_count": null,
   "metadata": {},
   "outputs": [],
   "source": [
    "import matplotlib.pyplot as plt\n",
    "\n",
    "# Plot histograms\n",
    "plt.hist(dist1, bins=20, alpha=0.5, color='blue', label='Dist 1')\n",
    "plt.hist(dist2, bins=20, alpha=0.5, color='green', label='Dist 2')\n",
    "plt.legend()\n",
    "plt.title(\"Histogram of two distributions\")\n",
    "plt.xlabel(\"value\")\n",
    "plt.ylabel(\"frequency\")\n",
    "plt.show()\n",
    "\n",
    "plt.boxplot([dist1, dist2])\n",
    "plt.title(\"Boxplot of two distributions\")\n",
    "plt.ylabel(\"value\")\n",
    "plt.show()\n"
   ]
  },
  {
   "cell_type": "markdown",
   "metadata": {},
   "source": [
    "## <font color = \"pink\" >Task 4: Create Boxplots"
   ]
  },
  {
   "cell_type": "code",
   "execution_count": null,
   "metadata": {},
   "outputs": [],
   "source": [
    "plt.boxplot([dist1, dist2])\n",
    "plt.title(\"Boxplot of two distributions\")\n",
    "plt.ylabel(\"value\")\n",
    "plt.show()"
   ]
  },
  {
   "cell_type": "markdown",
   "metadata": {},
   "source": []
  },
  {
   "cell_type": "markdown",
   "metadata": {},
   "source": [
    "## <font color ='pink'> # Task 4: Multiple Questions"
   ]
  },
  {
   "cell_type": "markdown",
   "metadata": {},
   "source": [
    "### Let's review what we learned in the previous class to refine our understanding 📝 :\n",
    "\n",
    "\n",
    "1. Write a loop to ask the user **five subtraction questions**.\n",
    "2. Use the following Python features:\n",
    "   - `random` to generate random numbers for the questions.\n",
    "   - `input()` to allow the user to answer each question.\n",
    "   - `int()` to convert the user input to an integer for comparison.\n",
    "3. Keep track of how many answers are correct.\n",
    "4. At the end, display the user's total score (e.g., \"You scored X/5!\").\n",
    "\n",
    "\n"
   ]
  },
  {
   "cell_type": "markdown",
   "metadata": {},
   "source": []
  },
  {
   "cell_type": "code",
   "execution_count": null,
   "metadata": {},
   "outputs": [],
   "source": [
    "# random numbers for the questions\n",
    "import numpy as np\n",
    "#orgenais the quastions\n",
    "score=0\n",
    "for i in range(5):\n",
    "    num1=np.random.randint(0,100)\n",
    "    num2=np.random.randint(0,100)\n",
    "    if num1<num2:  # make sure the big number is first\n",
    "         num1,num2=num2,num1\n",
    "    print(f\"how mutch is {num1}-{num2}?\") \n",
    "    user_i=int(input(\"Enter your answer: \"))\n",
    "    correct_ans=abs(num1-num2)   # make a possitive number\n",
    "    if user_i==correct_ans:\n",
    "         score+=1\n",
    "         print(\"correct\") \n",
    "    else:\n",
    "         print(f\"worng, the corret answer is: {correct_ans}\")\n",
    "print(f\"You scored: {score}/5!\" )          \n",
    "          \n",
    "\n",
    "   \n",
    "    \n",
    "                       \n"
   ]
  }
 ],
 "metadata": {
  "kernelspec": {
   "display_name": "Python 3",
   "language": "python",
   "name": "python3"
  },
  "language_info": {
   "codemirror_mode": {
    "name": "ipython",
    "version": 3
   },
   "file_extension": ".py",
   "mimetype": "text/x-python",
   "name": "python",
   "nbconvert_exporter": "python",
   "pygments_lexer": "ipython3",
   "version": "3.12.4"
  }
 },
 "nbformat": 4,
 "nbformat_minor": 2
}
