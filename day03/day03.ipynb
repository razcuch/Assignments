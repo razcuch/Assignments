{
 "cells": [
  {
   "cell_type": "code",
   "execution_count": 1,
   "metadata": {
    "colab": {
     "base_uri": "https://localhost:8080/"
    },
    "id": "CBK16lw3_FyP",
    "outputId": "95dcddb1-4904-4e46-bc01-a1963a92372a"
   },
   "outputs": [
    {
     "name": "stdout",
     "output_type": "stream",
     "text": [
      "Enter width 4\n",
      "Enter length 5\n",
      "The area is  20\n",
      "the circumference is  18\n"
     ]
    }
   ],
   "source": [
    "width = eval(input(\"Enter width \"))\n",
    "length = eval(input(\"Enter length \"))\n",
    "area = width*length\n",
    "circumference = width*2 + length*2\n",
    "print(\"The area is \",area )\n",
    "print(\"the circumference is \",circumference)"
   ]
  },
  {
   "cell_type": "code",
   "execution_count": null,
   "metadata": {
    "id": "Ih5-ZFh4_Ojs"
   },
   "outputs": [],
   "source": []
  }
 ],
 "metadata": {
  "colab": {
   "provenance": []
  },
  "kernelspec": {
   "display_name": "Python 3",
   "name": "python3"
  },
  "language_info": {
   "name": "python"
  }
 },
 "nbformat": 4,
 "nbformat_minor": 0
}
